{
 "cells": [
  {
   "attachments": {},
   "cell_type": "markdown",
   "metadata": {},
   "source": [
    "Trabalho final do Curso de Introdução à análise de dados com Python, do Curso de Verão do Instituto de Matemática e Estatística da Universidade de São Paulo.\n",
    "\n",
    "O objetivo do trabalho é responder a questão: *O orçamento do Instituto Brasileiro do Meio Ambiente e Recursos Naturais (IBAMA) cresceu nos últimos anos?*\n",
    "\n",
    "O primeiro passo é importar os pacotes necessários para a análise. Neste caso, o pandas será utilizado para tratamentos dos dados e o plotnine para a construção de gráficos."
   ]
  },
  {
   "cell_type": "code",
   "execution_count": 1,
   "metadata": {},
   "outputs": [],
   "source": [
    "import pandas as pd\n",
    "import plotnine as plotnine"
   ]
  },
  {
   "attachments": {},
   "cell_type": "markdown",
   "metadata": {},
   "source": [
    "O segundo passo é importar os dados que serão trabalhados. O link para fazer download da tabela é : https://dados.mma.gov.br/dataset/orcamento-anual-mma/resource/b818f1ab-0816-4d27-a20f-148b5fe47801"
   ]
  },
  {
   "cell_type": "code",
   "execution_count": null,
   "metadata": {},
   "outputs": [],
   "source": [
    "orcamento = pd.read_csv('./consolidado_consulta_painel_de_dados_abertos_2012_a_2021.csv', \n",
    "on_bad_lines='skip', \n",
    "encoding='Latin1', \n",
    "delimiter=';', \n",
    "low_memory=False)"
   ]
  },
  {
   "attachments": {},
   "cell_type": "markdown",
   "metadata": {},
   "source": [
    "Para me certificar sobre a importação correta, utilizei o seguinte código:"
   ]
  },
  {
   "cell_type": "code",
   "execution_count": null,
   "metadata": {},
   "outputs": [],
   "source": [
    "orcamento.info ()"
   ]
  },
  {
   "attachments": {},
   "cell_type": "markdown",
   "metadata": {},
   "source": [
    "A tabela possui 7 colunas e 10 linhas . Contudo, o nome das colunas estão desconfigurados e os números estão como objetos. Para dar prosseguimento a análise, precisei renomear 3 colunas, por meio de dicionários.A tabela possui 7 colunas e 10 linhas . Contudo, o nome das colunas estão desconfigurados e os números estão como objetos. Para dar prosseguimento a análise, precisei renomear 3 colunas, por meio de dicionários."
   ]
  },
  {
   "cell_type": "code",
   "execution_count": null,
   "metadata": {},
   "outputs": [],
   "source": [
    "orcamento.rename(columns={'ï»¿Ano': 'Ano', \n",
    "'DotaÃ§Ã£o Inicial': 'dotacao_inicial', \n",
    "'DotaÃ§Ã£o Atual': 'dotacao_atual' }, inplace = True)\n",
    "\n",
    "\n",
    "orcamento.info ()"
   ]
  },
  {
   "attachments": {},
   "cell_type": "markdown",
   "metadata": {},
   "source": [
    "Em seguida, transformei as strings em números, em que primeiramente foi necessário retirar os pontos como marcadores de casa decimais e depois inserir a vígula. Ao final, aplicado a função .info ( ) para conferir se a conversão das variáveis ocorreu corretamente."
   ]
  },
  {
   "cell_type": "code",
   "execution_count": null,
   "metadata": {},
   "outputs": [],
   "source": [
    "orcamento[\"Projeto de Lei\"] = orcamento[\"Projeto de Lei\"].str.replace(\".\", \"\")\n",
    "orcamento[\"Projeto de Lei\"] = orcamento[\"Projeto de Lei\"].str.replace(\",\", \".\")\n",
    "\n",
    "orcamento['Projeto de Lei'] = pd.to_numeric(orcamento['Projeto de Lei'], errors=\"coerce\")\n",
    "\n",
    "\n",
    "orcamento[\"dotacao_inicial\"] = orcamento[\"dotacao_inicial\"].str.replace(\".\", \"\")\n",
    "orcamento[\"dotacao_inicial\"] = orcamento[\"dotacao_inicial\"].str.replace(\",\", \".\")\n",
    "\n",
    "orcamento['dotacao_inicial'] = pd.to_numeric(orcamento['dotacao_inicial'], errors=\"coerce\")\n",
    "\n",
    "orcamento[\"dotacao_atual\"] = orcamento[\"dotacao_atual\"].str.replace(\".\", \"\")\n",
    "orcamento[\"dotacao_atual\"] = orcamento[\"dotacao_atual\"].str.replace(\",\", \".\")\n",
    "\n",
    "orcamento['dotacao_atual'] = pd.to_numeric(orcamento['dotacao_atual'], errors=\"coerce\")\n",
    "\n",
    "orcamento[\"Empenhado\"] = orcamento[\"Empenhado\"].str.replace(\".\", \"\")\n",
    "orcamento[\"Empenhado\"] = orcamento[\"Empenhado\"].str.replace(\",\", \".\")\n",
    "\n",
    "orcamento['Empenhado'] = pd.to_numeric(orcamento['Empenhado'], errors=\"coerce\")\n",
    "\n",
    "\n",
    "orcamento[\"Liquidado\"] = orcamento[\"Liquidado\"].str.replace(\".\", \"\")\n",
    "orcamento[\"Liquidado\"] = orcamento[\"Liquidado\"].str.replace(\",\", \".\")\n",
    "\n",
    "orcamento['Liquidado'] = pd.to_numeric(orcamento['Liquidado'], errors=\"coerce\")\n",
    "\n",
    "\n",
    "orcamento[\"Pago\"] = orcamento[\"Pago\"].str.replace(\".\", \"\")\n",
    "orcamento[\"Pago\"] = orcamento[\"Pago\"].str.replace(\",\", \".\")\n",
    "\n",
    "orcamento['Pago'] = pd.to_numeric(orcamento['Pago'], errors=\"coerce\")\n",
    "\n",
    "\n",
    "\n",
    "orcamento.info ()"
   ]
  },
  {
   "attachments": {},
   "cell_type": "markdown",
   "metadata": {},
   "source": [
    "Ajustando os valores para que facilitar a leitura. Por se tratar de bilhões, divirei todas as colunas por 1 bilhão para facilitar a leitura e diminuir a quantidade de números no gráfico."
   ]
  },
  {
   "cell_type": "code",
   "execution_count": null,
   "metadata": {},
   "outputs": [],
   "source": [
    "orcamento['Projeto de Lei'] = (orcamento['Projeto de Lei']/1000000000)\n",
    "\n",
    "orcamento['dotacao_inicial'] = orcamento['dotacao_inicial']/1000000000\n",
    "\n",
    "orcamento['dotacao_atual'] = orcamento['dotacao_atual']/1000000000\n",
    "\n",
    "orcamento['Empenhado'] = orcamento['Empenhado']/1000000000\n",
    "\n",
    "orcamento['Liquidado'] = orcamento['Liquidado']/1000000000\n",
    "\n",
    "orcamento['Pago'] = orcamento['Pago']/1000000000"
   ]
  },
  {
   "attachments": {},
   "cell_type": "markdown",
   "metadata": {},
   "source": [
    "Com os devidos ajustes feitos, podemos montar nosso gráfico. Importante ressaltar que os valores não estão corrigidos pela inflação. Para uma comparação mais exata, os valores devem ser corrigidos. A linha vermelha indicará o valor estimado no projeto de lei e a linha azul o valor que foi pago ao ministério."
   ]
  },
  {
   "cell_type": "code",
   "execution_count": null,
   "metadata": {},
   "outputs": [],
   "source": [
    "graph = (ggplot(orcamento, aes(x ='Ano', y='Projeto de Lei')) +\n",
    "geom_line( aes(x ='Ano', y='Projeto de Lei'),color = 'red') +\n",
    "geom_line(aes(x ='Ano', y='Pago'), color = 'blue') +\n",
    "labs (title = \"Orçamento previsto/pago do MMA  por ano\", \n",
    "      x =\"Ano\", \n",
    "      y =\"Valores em R$ (em bi)\",\n",
    "      caption = 'Dados abertos do MMA') +\n",
    "scale_x_continuous( breaks = [2012, 2013, 2014, 2015,2016,2017,2018,2019,2020,2021])+\n",
    "theme_bw()\n",
    ")\n",
    "\n",
    "ggsave(graph, \"trabalho_final.png\")"
   ]
  },
  {
   "attachments": {},
   "cell_type": "markdown",
   "metadata": {},
   "source": [
    "Analisando o gráfico, podemos perceber que o valor previsto na lei orçamentária anual é sempre relativamente maior do que o valor efetivamente pago pelo Ministério do Meio Ambiente. Além disso, pode-se perceber dois momentos emblemáticos no orçamento do MMA. Primeiro, o grande corte que acontece de 2013 para 2014 e, depois, a redução gradativa que acontece a partir de 2019. Assim, a resposta para a questão é que desde 2019 o orçamento do MMA está diminuindo gradativamente."
   ]
  }
 ],
 "metadata": {
  "kernelspec": {
   "display_name": "Python 3",
   "language": "python",
   "name": "python3"
  },
  "language_info": {
   "codemirror_mode": {
    "name": "ipython",
    "version": 3
   },
   "file_extension": ".py",
   "mimetype": "text/x-python",
   "name": "python",
   "nbconvert_exporter": "python",
   "pygments_lexer": "ipython3",
   "version": "3.10.4"
  },
  "orig_nbformat": 4,
  "vscode": {
   "interpreter": {
    "hash": "3ad933181bd8a04b432d3370b9dc3b0662ad032c4dfaa4e4f1596c548f763858"
   }
  }
 },
 "nbformat": 4,
 "nbformat_minor": 2
}
